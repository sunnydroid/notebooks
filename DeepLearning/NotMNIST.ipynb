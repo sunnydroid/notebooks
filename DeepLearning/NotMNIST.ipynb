{
 "cells": [
  {
   "cell_type": "markdown",
   "metadata": {},
   "source": [
    "# Train a Neural Net on the notMNIST Dataset \n",
    "\n",
    "### Steps\n",
    "1. Data curation - Downlaod\n",
    "1. Data exploration\n",
    "1. Data validation \n",
    "    1. Data balance check\n",
    "    2. Data check after shuffeling\n",
    "1. Model using Logistic Regression\n",
    "\n",
    "[Assignment](https://github.com/tensorflow/examples/blob/master/courses/udacity_deep_learning/1_notmnist.ipynb)\n",
    "\n",
    "[Dataset](http://yaroslavvb.blogspot.com/2011/09/notmnist-dataset.html)"
   ]
  },
  {
   "cell_type": "markdown",
   "metadata": {},
   "source": [
    "## Data Curation, Exploration and Validation \n",
    "- Download the data intelligently \n",
    "- Explore the data\n",
    "- Check that the data is valid"
   ]
  },
  {
   "cell_type": "code",
   "execution_count": 6,
   "metadata": {},
   "outputs": [],
   "source": [
    "from __future__ import print_function\n",
    "import imageio\n",
    "import matplotlib.pyplot as plt\n",
    "import numpy as np\n",
    "import sys\n",
    "import os\n",
    "from os.path import expanduser\n",
    "import tarfile\n",
    "from IPython.display import display, Image\n",
    "from sklearn.linear_model import LinearRegression\n",
    "from six.moves.urllib.request import urlretrieve\n",
    "from six.moves import cPickle as pickle"
   ]
  },
  {
   "cell_type": "markdown",
   "metadata": {},
   "source": [
    "The data consists of characters rendered in a variety of fonts on a 28x28 image. The labels are limited to 'A' through 'J' (10 classes). The training set has about 500k and the testset 19000 labeled examples\n",
    "\n",
    "Download the data into the ~/Downloads dir if the file doesn't already exist"
   ]
  },
  {
   "cell_type": "code",
   "execution_count": 9,
   "metadata": {},
   "outputs": [
    {
     "name": "stdout",
     "output_type": "stream",
     "text": [
      "verifying file size...\n",
      "verfied size of filenotMNIST_large.tar.gz, expected:247336696, actuat:247336696\n",
      "verifying file size...\n",
      "verfied size of filenotMNIST_small.tar.gz, expected:8458043, actuat:8458043\n"
     ]
    }
   ],
   "source": [
    "url = 'https://commondatastorage.googleapis.com/books1000/'\n",
    "data_root = expanduser('~')+'/Downloads/'\n",
    "\n",
    "def maybe_download(filename, expected_bytes, force=False):\n",
    "    \"\"\"Download the file if it isn't present and make sure it is the expected size\"\"\"\n",
    "    dest_file = os.path.join(data_root, filename)\n",
    "    if force or not os.path.exists(dest_file):\n",
    "        print('Attempting to download file:{} to {}'.format(filename, dest_file))\n",
    "        urlretrieve(url + filename, dest_file)\n",
    "        print('Download complete')\n",
    "    print('verifying file size...')\n",
    "    statinfo = os.stat(dest_file)\n",
    "    if statinfo.st_size == expected_bytes:\n",
    "        print('verfied size of file{}, expected:{}, actuat:{}'.format(filename, expected_bytes, statinfo.st_size))\n",
    "    else:\n",
    "        raise Exception('Mismatch in size for file, expected:{}, actuat:{}'.format(expected_bytes, statinfo.st_size))\n",
    "    \n",
    "    return dest_file\n",
    "\n",
    "train_filename = maybe_download('notMNIST_large.tar.gz', 247336696)\n",
    "test_filename = maybe_download('notMNIST_small.tar.gz', 8458043)"
   ]
  },
  {
   "cell_type": "markdown",
   "metadata": {},
   "source": [
    "Extract the dataset from the compressed .tar.gz file. This should give you a set of directories, labeled A through J."
   ]
  },
  {
   "cell_type": "code",
   "execution_count": 12,
   "metadata": {},
   "outputs": [
    {
     "name": "stdout",
     "output_type": "stream",
     "text": [
      "extracting file to path:/Users/sunnyshah/Downloads/notMNIST_large\n",
      "folders extracted:['/Users/sunnyshah/Downloads/notMNIST_large/A', '/Users/sunnyshah/Downloads/notMNIST_large/B', '/Users/sunnyshah/Downloads/notMNIST_large/C', '/Users/sunnyshah/Downloads/notMNIST_large/D', '/Users/sunnyshah/Downloads/notMNIST_large/E', '/Users/sunnyshah/Downloads/notMNIST_large/F', '/Users/sunnyshah/Downloads/notMNIST_large/G', '/Users/sunnyshah/Downloads/notMNIST_large/H', '/Users/sunnyshah/Downloads/notMNIST_large/I', '/Users/sunnyshah/Downloads/notMNIST_large/J']\n",
      "extracting file to path:/Users/sunnyshah/Downloads/notMNIST_small\n",
      "folders extracted:['/Users/sunnyshah/Downloads/notMNIST_small/A', '/Users/sunnyshah/Downloads/notMNIST_small/B', '/Users/sunnyshah/Downloads/notMNIST_small/C', '/Users/sunnyshah/Downloads/notMNIST_small/D', '/Users/sunnyshah/Downloads/notMNIST_small/E', '/Users/sunnyshah/Downloads/notMNIST_small/F', '/Users/sunnyshah/Downloads/notMNIST_small/G', '/Users/sunnyshah/Downloads/notMNIST_small/H', '/Users/sunnyshah/Downloads/notMNIST_small/I', '/Users/sunnyshah/Downloads/notMNIST_small/J']\n"
     ]
    }
   ],
   "source": [
    "num_classes = 10\n",
    "np.random.seed(37)\n",
    "\n",
    "def maybe_extract(filename, force=False):\n",
    "    # remove .tar.gz from filename\n",
    "    root = os.path.splitext(os.path.splitext(filename)[0])[0]\n",
    "    if os.path.isdir(filename) and not force:\n",
    "        print('file:{} already exists, skipping..'.format(filename))\n",
    "    else:\n",
    "        print('extracting file to path:{}'.format(root))\n",
    "        tar = tarfile.open(filename)\n",
    "        sys.stdout.flush()\n",
    "        tar.extractall(data_root)\n",
    "        tar.close()\n",
    "    data_folders = [\n",
    "        os.path.join(root, d) for d in sorted(os.listdir(root))\n",
    "        if os.path.isdir(os.path.join(root, d))\n",
    "    ]\n",
    "    if len(data_folders) != num_classes: \n",
    "        raise Exception(\n",
    "            'Number of classes do not match extracted. Expected={}, extracted={}'.format(\n",
    "                num_classes, len(data_folders)))\n",
    "    print('folders extracted:{}'.format(data_folders))\n",
    "    return data_folders\n",
    "\n",
    "train_folders = maybe_extract(train_filename)\n",
    "test_folder = maybe_extract(test_filename)"
   ]
  },
  {
   "cell_type": "code",
   "execution_count": null,
   "metadata": {},
   "outputs": [],
   "source": []
  }
 ],
 "metadata": {
  "kernelspec": {
   "display_name": "Python 3",
   "language": "python",
   "name": "python3"
  },
  "language_info": {
   "codemirror_mode": {
    "name": "ipython",
    "version": 3
   },
   "file_extension": ".py",
   "mimetype": "text/x-python",
   "name": "python",
   "nbconvert_exporter": "python",
   "pygments_lexer": "ipython3",
   "version": "3.7.2"
  }
 },
 "nbformat": 4,
 "nbformat_minor": 2
}
